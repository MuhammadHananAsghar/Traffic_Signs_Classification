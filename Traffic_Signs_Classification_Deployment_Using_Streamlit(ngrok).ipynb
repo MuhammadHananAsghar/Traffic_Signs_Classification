{
  "nbformat": 4,
  "nbformat_minor": 0,
  "metadata": {
    "colab": {
      "name": "Traffic Signs Classification Deployment Using Streamlit(ngrok).ipynb",
      "provenance": [],
      "collapsed_sections": []
    },
    "kernelspec": {
      "name": "python3",
      "display_name": "Python 3"
    },
    "language_info": {
      "name": "python"
    }
  },
  "cells": [
    {
      "cell_type": "code",
      "metadata": {
        "colab": {
          "base_uri": "https://localhost:8080/"
        },
        "id": "1VWHkwGPa2Rd",
        "outputId": "99b5751a-efd3-41cf-d7f1-14c04e56489b"
      },
      "source": [
        "from google.colab import drive\n",
        "drive.mount('/content/drive')"
      ],
      "execution_count": null,
      "outputs": [
        {
          "output_type": "stream",
          "text": [
            "Mounted at /content/drive\n"
          ],
          "name": "stdout"
        }
      ]
    },
    {
      "cell_type": "code",
      "metadata": {
        "id": "QMCj9-LnbSrR"
      },
      "source": [
        "!pip install streamlit"
      ],
      "execution_count": null,
      "outputs": []
    },
    {
      "cell_type": "code",
      "metadata": {
        "id": "dRhQZ0IDjyFo"
      },
      "source": [
        "!cp \"/content/drive/MyDrive/signs.h5\" \"/content\""
      ],
      "execution_count": null,
      "outputs": []
    },
    {
      "cell_type": "code",
      "metadata": {
        "colab": {
          "base_uri": "https://localhost:8080/"
        },
        "id": "-2Cb93Fij2Qa",
        "outputId": "e5cf988d-e2f8-40e4-cd99-62050891e6b3"
      },
      "source": [
        "%%writefile app.py\n",
        "import streamlit as st\n",
        "from keras.models import load_model\n",
        "from PIL import Image, ImageOps\n",
        "import time\n",
        "import numpy as np\n",
        "\n",
        "predictions = {0: 'Speed limit (20km/h)', 1: 'Speed limit (30km/h)', 2: 'Speed limit (50km/h)', 3: 'Speed limit (60km/h)', 4: 'Speed limit (70km/h)', 5: 'Speed limit (80km/h)', 6: 'End of speed limit (80km/h)', 7: 'Speed limit (100km/h)', 8: 'Speed limit (120km/h)', 9: 'No passing', 10: 'No passing for vehicles over 3.5 metric tons', 11: 'Right-of-way at the next intersection', 12: 'Priority road', 13: 'Yield', 14: 'Stop', 15: 'No vehicles', 16: 'Vehicles over 3.5 metric tons prohibited', 17: 'No entry', 18: 'General caution', 19: 'Dangerous curve to the left', 20: 'Dangerous curve to the right', 21: 'Double curve', 22: 'Bumpy road', 23: 'Slippery road', 24: 'Road narrows on the right', 25: 'Road work', 26: 'Traffic signals', 27: 'Pedestrians', 28: 'Children crossing', 29: 'Bicycles crossing', 30: 'Beware of ice/snow', 31: 'Wild animals crossing', 32: 'End of all speed and passing limits', 33: 'Turn right ahead', 34: 'Turn left ahead', 35: 'Ahead only', 36: 'Go straight or right', 37: 'Go straight or left', 38: 'Keep right', 39: 'Keep left', 40: 'Roundabout mandatory', 41: 'End of no passing', 42: 'End of no passing by vehicles over 3.5 metric tons'}\n",
        "\n",
        "def traffic_signs_classification(img, weights_file):\n",
        "  # Load the model\n",
        "  model = load_model(weights_file)\n",
        "  # Create the array of the right shape to feed into the keras model\n",
        "  data = np.ndarray(shape=(1, 30, 30, 3), dtype=np.float32)\n",
        "  image = img\n",
        "  #image sizing\n",
        "  size = (30, 30)\n",
        "  image = ImageOps.fit(image, size, Image.ANTIALIAS)\n",
        "  #turn the image into a numpy array\n",
        "  image_array = np.asarray(image)\n",
        "  # Normalize the image\n",
        "  normalized_image_array = (image_array.astype(np.float32) / 127.0) - 1\n",
        "  # Load the image into the array\n",
        "  data[0] = normalized_image_array\n",
        "  # run the inference\n",
        "  prediction = model.predict(data)\n",
        "  return np.argmax(prediction) # return position of the highest probability\n",
        "\n",
        "st.title(\"Traffic Signs Classification\")\n",
        "st.header(\"43 Types of Traffic Signs Classification and Identification.\")\n",
        "st.text(\"Upload a Traffic Sign for image classification to classify Sign Type.\")\n",
        "\n",
        "uploaded_file = st.file_uploader(\"Choose a Sign Image ...\", type=\"jpg\")\n",
        "if uploaded_file is not None:\n",
        "  image = Image.open(uploaded_file)\n",
        "  st.image(image, caption='Uploaded Image.', use_column_width=True)\n",
        "  st.write(\"\")\n",
        "  st.write(\"Classifying...\")\n",
        "  label = traffic_signs_classification(image, '/content/signs.h5')\n",
        "  st.write(f\"This Sign is {label}.\")"
      ],
      "execution_count": null,
      "outputs": [
        {
          "output_type": "stream",
          "text": [
            "Overwriting app.py\n"
          ],
          "name": "stdout"
        }
      ]
    },
    {
      "cell_type": "code",
      "metadata": {
        "colab": {
          "base_uri": "https://localhost:8080/"
        },
        "id": "nYpoyYu_q_uT",
        "outputId": "697ae1bc-86a7-4c59-9df3-276e65c8674c"
      },
      "source": [
        "!pip install pyngrok"
      ],
      "execution_count": null,
      "outputs": [
        {
          "output_type": "stream",
          "text": [
            "Collecting pyngrok\n",
            "  Downloading pyngrok-5.0.6.tar.gz (746 kB)\n",
            "\u001b[?25l\r\u001b[K     |▍                               | 10 kB 21.8 MB/s eta 0:00:01\r\u001b[K     |▉                               | 20 kB 26.6 MB/s eta 0:00:01\r\u001b[K     |█▎                              | 30 kB 16.4 MB/s eta 0:00:01\r\u001b[K     |█▊                              | 40 kB 11.9 MB/s eta 0:00:01\r\u001b[K     |██▏                             | 51 kB 7.2 MB/s eta 0:00:01\r\u001b[K     |██▋                             | 61 kB 6.7 MB/s eta 0:00:01\r\u001b[K     |███                             | 71 kB 7.1 MB/s eta 0:00:01\r\u001b[K     |███▌                            | 81 kB 7.9 MB/s eta 0:00:01\r\u001b[K     |████                            | 92 kB 8.0 MB/s eta 0:00:01\r\u001b[K     |████▍                           | 102 kB 6.7 MB/s eta 0:00:01\r\u001b[K     |████▉                           | 112 kB 6.7 MB/s eta 0:00:01\r\u001b[K     |█████▎                          | 122 kB 6.7 MB/s eta 0:00:01\r\u001b[K     |█████▊                          | 133 kB 6.7 MB/s eta 0:00:01\r\u001b[K     |██████▏                         | 143 kB 6.7 MB/s eta 0:00:01\r\u001b[K     |██████▋                         | 153 kB 6.7 MB/s eta 0:00:01\r\u001b[K     |███████                         | 163 kB 6.7 MB/s eta 0:00:01\r\u001b[K     |███████▌                        | 174 kB 6.7 MB/s eta 0:00:01\r\u001b[K     |████████                        | 184 kB 6.7 MB/s eta 0:00:01\r\u001b[K     |████████▍                       | 194 kB 6.7 MB/s eta 0:00:01\r\u001b[K     |████████▊                       | 204 kB 6.7 MB/s eta 0:00:01\r\u001b[K     |█████████▏                      | 215 kB 6.7 MB/s eta 0:00:01\r\u001b[K     |█████████▋                      | 225 kB 6.7 MB/s eta 0:00:01\r\u001b[K     |██████████                      | 235 kB 6.7 MB/s eta 0:00:01\r\u001b[K     |██████████▌                     | 245 kB 6.7 MB/s eta 0:00:01\r\u001b[K     |███████████                     | 256 kB 6.7 MB/s eta 0:00:01\r\u001b[K     |███████████▍                    | 266 kB 6.7 MB/s eta 0:00:01\r\u001b[K     |███████████▉                    | 276 kB 6.7 MB/s eta 0:00:01\r\u001b[K     |████████████▎                   | 286 kB 6.7 MB/s eta 0:00:01\r\u001b[K     |████████████▊                   | 296 kB 6.7 MB/s eta 0:00:01\r\u001b[K     |█████████████▏                  | 307 kB 6.7 MB/s eta 0:00:01\r\u001b[K     |█████████████▋                  | 317 kB 6.7 MB/s eta 0:00:01\r\u001b[K     |██████████████                  | 327 kB 6.7 MB/s eta 0:00:01\r\u001b[K     |██████████████▌                 | 337 kB 6.7 MB/s eta 0:00:01\r\u001b[K     |███████████████                 | 348 kB 6.7 MB/s eta 0:00:01\r\u001b[K     |███████████████▍                | 358 kB 6.7 MB/s eta 0:00:01\r\u001b[K     |███████████████▉                | 368 kB 6.7 MB/s eta 0:00:01\r\u001b[K     |████████████████▎               | 378 kB 6.7 MB/s eta 0:00:01\r\u001b[K     |████████████████▊               | 389 kB 6.7 MB/s eta 0:00:01\r\u001b[K     |█████████████████▏              | 399 kB 6.7 MB/s eta 0:00:01\r\u001b[K     |█████████████████▌              | 409 kB 6.7 MB/s eta 0:00:01\r\u001b[K     |██████████████████              | 419 kB 6.7 MB/s eta 0:00:01\r\u001b[K     |██████████████████▍             | 430 kB 6.7 MB/s eta 0:00:01\r\u001b[K     |██████████████████▉             | 440 kB 6.7 MB/s eta 0:00:01\r\u001b[K     |███████████████████▎            | 450 kB 6.7 MB/s eta 0:00:01\r\u001b[K     |███████████████████▊            | 460 kB 6.7 MB/s eta 0:00:01\r\u001b[K     |████████████████████▏           | 471 kB 6.7 MB/s eta 0:00:01\r\u001b[K     |████████████████████▋           | 481 kB 6.7 MB/s eta 0:00:01\r\u001b[K     |█████████████████████           | 491 kB 6.7 MB/s eta 0:00:01\r\u001b[K     |█████████████████████▌          | 501 kB 6.7 MB/s eta 0:00:01\r\u001b[K     |██████████████████████          | 512 kB 6.7 MB/s eta 0:00:01\r\u001b[K     |██████████████████████▍         | 522 kB 6.7 MB/s eta 0:00:01\r\u001b[K     |██████████████████████▉         | 532 kB 6.7 MB/s eta 0:00:01\r\u001b[K     |███████████████████████▎        | 542 kB 6.7 MB/s eta 0:00:01\r\u001b[K     |███████████████████████▊        | 552 kB 6.7 MB/s eta 0:00:01\r\u001b[K     |████████████████████████▏       | 563 kB 6.7 MB/s eta 0:00:01\r\u001b[K     |████████████████████████▋       | 573 kB 6.7 MB/s eta 0:00:01\r\u001b[K     |█████████████████████████       | 583 kB 6.7 MB/s eta 0:00:01\r\u001b[K     |█████████████████████████▌      | 593 kB 6.7 MB/s eta 0:00:01\r\u001b[K     |██████████████████████████      | 604 kB 6.7 MB/s eta 0:00:01\r\u001b[K     |██████████████████████████▎     | 614 kB 6.7 MB/s eta 0:00:01\r\u001b[K     |██████████████████████████▊     | 624 kB 6.7 MB/s eta 0:00:01\r\u001b[K     |███████████████████████████▏    | 634 kB 6.7 MB/s eta 0:00:01\r\u001b[K     |███████████████████████████▋    | 645 kB 6.7 MB/s eta 0:00:01\r\u001b[K     |████████████████████████████    | 655 kB 6.7 MB/s eta 0:00:01\r\u001b[K     |████████████████████████████▌   | 665 kB 6.7 MB/s eta 0:00:01\r\u001b[K     |█████████████████████████████   | 675 kB 6.7 MB/s eta 0:00:01\r\u001b[K     |█████████████████████████████▍  | 686 kB 6.7 MB/s eta 0:00:01\r\u001b[K     |█████████████████████████████▉  | 696 kB 6.7 MB/s eta 0:00:01\r\u001b[K     |██████████████████████████████▎ | 706 kB 6.7 MB/s eta 0:00:01\r\u001b[K     |██████████████████████████████▊ | 716 kB 6.7 MB/s eta 0:00:01\r\u001b[K     |███████████████████████████████▏| 727 kB 6.7 MB/s eta 0:00:01\r\u001b[K     |███████████████████████████████▋| 737 kB 6.7 MB/s eta 0:00:01\r\u001b[K     |████████████████████████████████| 746 kB 6.7 MB/s \n",
            "\u001b[?25hRequirement already satisfied: PyYAML in /usr/local/lib/python3.7/dist-packages (from pyngrok) (3.13)\n",
            "Building wheels for collected packages: pyngrok\n",
            "  Building wheel for pyngrok (setup.py) ... \u001b[?25l\u001b[?25hdone\n",
            "  Created wheel for pyngrok: filename=pyngrok-5.0.6-py3-none-any.whl size=19263 sha256=04f182c3ba25b2367141bff9d8832b0845127738745151ad7d21b0759b7ffb25\n",
            "  Stored in directory: /root/.cache/pip/wheels/d5/8c/c4/8d9cbca4fa19bf64887b4a91914194bb9033f1a7cbb344d5ab\n",
            "Successfully built pyngrok\n",
            "Installing collected packages: pyngrok\n",
            "Successfully installed pyngrok-5.0.6\n"
          ],
          "name": "stdout"
        }
      ]
    },
    {
      "cell_type": "code",
      "metadata": {
        "colab": {
          "base_uri": "https://localhost:8080/"
        },
        "id": "jDmup8_VqHk2",
        "outputId": "a5957e40-cd2a-4b1b-9f5a-d3bd95b2606e"
      },
      "source": [
        "from pyngrok import ngrok\n",
        "\n",
        "!ngrok authtoken 1waNvORVqX8J7CXtw8ylVxojohC_3aiwF8RVtqWKcZJsxyYjR\n",
        "!nohup streamlit run app.py &\n",
        "\n",
        "url = ngrok.connect(port = 8501)\n",
        "print(url)\n",
        "\n",
        "!streamlit run --server.port 80 app.py >/dev/null"
      ],
      "execution_count": null,
      "outputs": [
        {
          "output_type": "stream",
          "text": [
            "Authtoken saved to configuration file: /root/.ngrok2/ngrok.yml\n",
            "nohup: appending output to 'nohup.out'\n",
            "NgrokTunnel: \"http://3423cd9c7dd9.ngrok.io\" -> \"http://localhost:80\"\n",
            "2021-08-11 14:49:21.408933: I tensorflow/stream_executor/platform/default/dso_loader.cc:53] Successfully opened dynamic library libcudart.so.11.0\n",
            "2021-08-11 14:51:01.697644: I tensorflow/stream_executor/platform/default/dso_loader.cc:53] Successfully opened dynamic library libcuda.so.1\n",
            "2021-08-11 14:51:01.710940: E tensorflow/stream_executor/cuda/cuda_driver.cc:328] failed call to cuInit: CUDA_ERROR_NO_DEVICE: no CUDA-capable device is detected\n",
            "2021-08-11 14:51:01.711000: I tensorflow/stream_executor/cuda/cuda_diagnostics.cc:156] kernel driver does not appear to be running on this host (ff985255716e): /proc/driver/nvidia/version does not exist\n",
            "2021-08-11 14:51:01.711531: I tensorflow/core/platform/cpu_feature_guard.cc:142] This TensorFlow binary is optimized with oneAPI Deep Neural Network Library (oneDNN) to use the following CPU instructions in performance-critical operations:  AVX512F\n",
            "To enable them in other operations, rebuild TensorFlow with the appropriate compiler flags.\n",
            "2021-08-11 14:51:02.421917: I tensorflow/compiler/mlir/mlir_graph_optimization_pass.cc:176] None of the MLIR Optimization Passes are enabled (registered 2)\n",
            "2021-08-11 14:51:02.422389: I tensorflow/core/platform/profile_utils/cpu_utils.cc:114] CPU Frequency: 1999995000 Hz\n"
          ],
          "name": "stdout"
        }
      ]
    },
    {
      "cell_type": "code",
      "metadata": {
        "id": "Aen8JapHrRNA"
      },
      "source": [
        ""
      ],
      "execution_count": null,
      "outputs": []
    }
  ]
}